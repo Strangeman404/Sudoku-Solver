{
 "cells": [
  {
   "cell_type": "code",
   "execution_count": null,
   "metadata": {},
   "outputs": [],
   "source": []
  },
  {
   "cell_type": "code",
   "execution_count": 1,
   "metadata": {},
   "outputs": [],
   "source": [
    "def Original():\n",
    "    Values = []\n",
    "    for i in range(9):\n",
    "        x = []\n",
    "        for j in range(9):\n",
    "            \n",
    "            x.append(0)\n",
    "        \n",
    "        Values.append(x) \n",
    "        \n",
    "    return Values"
   ]
  },
  {
   "cell_type": "code",
   "execution_count": 2,
   "metadata": {},
   "outputs": [],
   "source": [
    "def vert_check(vert_num):\n",
    "    \"Vertical Check\"\n",
    "    for i in range(9):\n",
    "        value = vert([i,vert_num])\n",
    "        \n",
    "        if value == 100:\n",
    "            p = 1                  #random function that does nothing\n",
    "        else:\n",
    "            value = i\n",
    "            break\n",
    "            \n",
    "    return value"
   ]
  },
  {
   "cell_type": "code",
   "execution_count": 3,
   "metadata": {},
   "outputs": [],
   "source": [
    "def vert(var):\n",
    "    x,vert = var\n",
    "    for i in range(x, 9):\n",
    "        if x == vert[i]:\n",
    "            return 100\n",
    "        else:\n",
    "            return x"
   ]
  },
  {
   "cell_type": "code",
   "execution_count": 4,
   "metadata": {},
   "outputs": [],
   "source": [
    "def hori_check(hori_num):\n",
    "    \"Vertical Check\"\n",
    "    for i in range(9):\n",
    "        value = hori([i,hori_num])\n",
    "        \n",
    "        if value == 100:\n",
    "            p = 1                  #random function that does nothing\n",
    "        else:\n",
    "            value = i\n",
    "            break\n",
    "            \n",
    "    return value"
   ]
  },
  {
   "cell_type": "code",
   "execution_count": 5,
   "metadata": {},
   "outputs": [],
   "source": [
    "def hori(var):\n",
    "    x,vert = var\n",
    "    for i in range(x, 9):\n",
    "        if x == vert[i]:\n",
    "            return 100\n",
    "        else:\n",
    "            return x"
   ]
  },
  {
   "cell_type": "code",
   "execution_count": 6,
   "metadata": {},
   "outputs": [],
   "source": [
    "def block_check(block_num):\n",
    "    \"Vertical Check\"\n",
    "    for i in range(9):\n",
    "        value = block([i,block_num])\n",
    "        \n",
    "        if value == 100:\n",
    "            p = 1                  #random function that does nothing\n",
    "        else:\n",
    "            value = i\n",
    "            break\n",
    "            \n",
    "    return value"
   ]
  },
  {
   "cell_type": "code",
   "execution_count": 7,
   "metadata": {},
   "outputs": [],
   "source": [
    "def block(var):\n",
    "    x,vert = var\n",
    "    for i in range(x, 9):\n",
    "        if x == vert[i]:\n",
    "            return 100\n",
    "        else:\n",
    "            return x"
   ]
  },
  {
   "cell_type": "code",
   "execution_count": null,
   "metadata": {},
   "outputs": [],
   "source": []
  },
  {
   "cell_type": "code",
   "execution_count": null,
   "metadata": {},
   "outputs": [],
   "source": [
    "\n",
    "    "
   ]
  },
  {
   "cell_type": "code",
   "execution_count": 8,
   "metadata": {},
   "outputs": [],
   "source": [
    "def vert_line(var):\n",
    "    initial, i = var\n",
    "    vert_list = []\n",
    "    for j in range(9):\n",
    "        vert = initial[i][j]\n",
    "        vert_list.append(vert)\n",
    "    return vert_list"
   ]
  },
  {
   "cell_type": "code",
   "execution_count": 9,
   "metadata": {},
   "outputs": [],
   "source": [
    "def hori_line(var):\n",
    "    initial, j = var\n",
    "    hori_list = []\n",
    "    for i in range(9):\n",
    "        hori = initial[i][j]\n",
    "        hori_list.append(hori)\n",
    "    return hori_list"
   ]
  },
  {
   "cell_type": "code",
   "execution_count": 10,
   "metadata": {},
   "outputs": [],
   "source": [
    "def block_line(var):\n",
    "    initial,i,j = var\n",
    "    block_list = []\n",
    "    \"First row\"\n",
    "    if i < 3 and j < 3:\n",
    "        for x in range(3):\n",
    "            for y in range(3):\n",
    "                block = initial[x][y]\n",
    "                block_list.append(block)\n",
    "                \n",
    "    elif i < 3 and 2 < j < 6:\n",
    "        for x in range(3):\n",
    "            for y in range(3):\n",
    "                block = initial[x][y+3]\n",
    "                block_list.append(block) \n",
    "\n",
    "    elif i < 3 and 5 < j:\n",
    "        for x in range(3):\n",
    "            for y in range(3):\n",
    "                block = initial[x][y+6]\n",
    "                block_list.append(block) \n",
    "    elif 2 < i < 6 and j < 3:\n",
    "        for x in range(3):\n",
    "            for y in range(3):\n",
    "                block = initial[x+3][y]\n",
    "                block_list.append(block) \n",
    "    \n",
    "    elif 2 < i < 6 and 2 < j < 6:\n",
    "        for x in range(3):\n",
    "            for y in range(3):\n",
    "                block = initial[x+3][y+3]\n",
    "                block_list.append(block) \n",
    "\n",
    "    elif 2 < i < 6 and 5 < j:\n",
    "        for x in range(3):\n",
    "            for y in range(3):\n",
    "                block = initial[x+3][y+6]\n",
    "                block_list.append(block) \n",
    "\n",
    "    elif 5 < i and j < 3:\n",
    "        for x in range(3):\n",
    "            for y in range(3):\n",
    "                block = initial[x+6][y]\n",
    "                block_list.append(block) \n",
    "\n",
    "    elif 5 < i  and 2 < j < 6:\n",
    "        for x in range(3):\n",
    "            for y in range(3):\n",
    "                block = initial[x+6][y+3]\n",
    "                block_list.append(block) \n",
    "\n",
    "    elif 5 < i  and 5 < j:\n",
    "        for x in range(3):\n",
    "            for y in range(3):\n",
    "                block = initial[x+6][y+6]\n",
    "                block_list.append(block) \n",
    "    \n",
    "    return block_list\n",
    "                "
   ]
  },
  {
   "cell_type": "code",
   "execution_count": 11,
   "metadata": {},
   "outputs": [],
   "source": [
    "def number(var):\n",
    "    vert_num,hori_num,block_num = var\n",
    "    x = 100\n",
    "    while x == 100:\n",
    "        x = vert_check(x)\n",
    "\n",
    "        x = hori_check(x)\n",
    "\n",
    "        x = block_check(x)\n",
    "    \n",
    "    return x"
   ]
  },
  {
   "cell_type": "code",
   "execution_count": 12,
   "metadata": {},
   "outputs": [
    {
     "data": {
      "text/plain": [
       "'Initial'"
      ]
     },
     "execution_count": 12,
     "metadata": {},
     "output_type": "execute_result"
    }
   ],
   "source": [
    "\"Initial\""
   ]
  },
  {
   "cell_type": "code",
   "execution_count": 13,
   "metadata": {},
   "outputs": [],
   "source": [
    "def solver(initial):\n",
    "    for i in range(9):\n",
    "        for j in range(9):\n",
    "            x = initial[i][j]\n",
    "            vert_num = vert_line([initial,i]) \n",
    "            hori_num = hori_line([initial,j])\n",
    "            block_num = block_line([initial,i,j])\n",
    "            \n",
    "            \n",
    "            if x == 0:\n",
    "                initial[i][j] = number([vert_num,hori_num,block_num])\n",
    "            else:\n",
    "                p = 4\n",
    "    return initial"
   ]
  },
  {
   "cell_type": "code",
   "execution_count": 14,
   "metadata": {},
   "outputs": [
    {
     "ename": "TypeError",
     "evalue": "'int' object is not subscriptable",
     "output_type": "error",
     "traceback": [
      "\u001b[1;31m---------------------------------------------------------------------------\u001b[0m",
      "\u001b[1;31mTypeError\u001b[0m                                 Traceback (most recent call last)",
      "\u001b[1;32m<ipython-input-14-ef9863fb8ac5>\u001b[0m in \u001b[0;36m<module>\u001b[1;34m()\u001b[0m\n\u001b[0;32m      1\u001b[0m \u001b[0mstart\u001b[0m \u001b[1;33m=\u001b[0m \u001b[0mOriginal\u001b[0m\u001b[1;33m(\u001b[0m\u001b[1;33m)\u001b[0m\u001b[1;33m\u001b[0m\u001b[0m\n\u001b[1;32m----> 2\u001b[1;33m \u001b[0mresult\u001b[0m \u001b[1;33m=\u001b[0m \u001b[0msolver\u001b[0m\u001b[1;33m(\u001b[0m\u001b[0mstart\u001b[0m\u001b[1;33m)\u001b[0m\u001b[1;33m\u001b[0m\u001b[0m\n\u001b[0m\u001b[0;32m      3\u001b[0m \u001b[0mresult\u001b[0m\u001b[1;33m\u001b[0m\u001b[0m\n",
      "\u001b[1;32m<ipython-input-13-b156b1a7e8d0>\u001b[0m in \u001b[0;36msolver\u001b[1;34m(initial)\u001b[0m\n\u001b[0;32m      9\u001b[0m \u001b[1;33m\u001b[0m\u001b[0m\n\u001b[0;32m     10\u001b[0m             \u001b[1;32mif\u001b[0m \u001b[0mx\u001b[0m \u001b[1;33m==\u001b[0m \u001b[1;36m0\u001b[0m\u001b[1;33m:\u001b[0m\u001b[1;33m\u001b[0m\u001b[0m\n\u001b[1;32m---> 11\u001b[1;33m                 \u001b[0minitial\u001b[0m\u001b[1;33m[\u001b[0m\u001b[0mi\u001b[0m\u001b[1;33m]\u001b[0m\u001b[1;33m[\u001b[0m\u001b[0mj\u001b[0m\u001b[1;33m]\u001b[0m \u001b[1;33m=\u001b[0m \u001b[0mnumber\u001b[0m\u001b[1;33m(\u001b[0m\u001b[1;33m[\u001b[0m\u001b[0mvert_num\u001b[0m\u001b[1;33m,\u001b[0m\u001b[0mhori_num\u001b[0m\u001b[1;33m,\u001b[0m\u001b[0mblock_num\u001b[0m\u001b[1;33m]\u001b[0m\u001b[1;33m)\u001b[0m\u001b[1;33m\u001b[0m\u001b[0m\n\u001b[0m\u001b[0;32m     12\u001b[0m             \u001b[1;32melse\u001b[0m\u001b[1;33m:\u001b[0m\u001b[1;33m\u001b[0m\u001b[0m\n\u001b[0;32m     13\u001b[0m                 \u001b[0mp\u001b[0m \u001b[1;33m=\u001b[0m \u001b[1;36m4\u001b[0m\u001b[1;33m\u001b[0m\u001b[0m\n",
      "\u001b[1;32m<ipython-input-11-6ff357db3a28>\u001b[0m in \u001b[0;36mnumber\u001b[1;34m(var)\u001b[0m\n\u001b[0;32m      3\u001b[0m     \u001b[0mx\u001b[0m \u001b[1;33m=\u001b[0m \u001b[1;36m100\u001b[0m\u001b[1;33m\u001b[0m\u001b[0m\n\u001b[0;32m      4\u001b[0m     \u001b[1;32mwhile\u001b[0m \u001b[0mx\u001b[0m \u001b[1;33m==\u001b[0m \u001b[1;36m100\u001b[0m\u001b[1;33m:\u001b[0m\u001b[1;33m\u001b[0m\u001b[0m\n\u001b[1;32m----> 5\u001b[1;33m         \u001b[0mx\u001b[0m \u001b[1;33m=\u001b[0m \u001b[0mvert_check\u001b[0m\u001b[1;33m(\u001b[0m\u001b[0mx\u001b[0m\u001b[1;33m)\u001b[0m\u001b[1;33m\u001b[0m\u001b[0m\n\u001b[0m\u001b[0;32m      6\u001b[0m \u001b[1;33m\u001b[0m\u001b[0m\n\u001b[0;32m      7\u001b[0m         \u001b[0mx\u001b[0m \u001b[1;33m=\u001b[0m \u001b[0mhori_check\u001b[0m\u001b[1;33m(\u001b[0m\u001b[0mx\u001b[0m\u001b[1;33m)\u001b[0m\u001b[1;33m\u001b[0m\u001b[0m\n",
      "\u001b[1;32m<ipython-input-2-a311eb6d9869>\u001b[0m in \u001b[0;36mvert_check\u001b[1;34m(vert_num)\u001b[0m\n\u001b[0;32m      2\u001b[0m     \u001b[1;34m\"Vertical Check\"\u001b[0m\u001b[1;33m\u001b[0m\u001b[0m\n\u001b[0;32m      3\u001b[0m     \u001b[1;32mfor\u001b[0m \u001b[0mi\u001b[0m \u001b[1;32min\u001b[0m \u001b[0mrange\u001b[0m\u001b[1;33m(\u001b[0m\u001b[1;36m9\u001b[0m\u001b[1;33m)\u001b[0m\u001b[1;33m:\u001b[0m\u001b[1;33m\u001b[0m\u001b[0m\n\u001b[1;32m----> 4\u001b[1;33m         \u001b[0mvalue\u001b[0m \u001b[1;33m=\u001b[0m \u001b[0mvert\u001b[0m\u001b[1;33m(\u001b[0m\u001b[1;33m[\u001b[0m\u001b[0mi\u001b[0m\u001b[1;33m,\u001b[0m\u001b[0mvert_num\u001b[0m\u001b[1;33m]\u001b[0m\u001b[1;33m)\u001b[0m\u001b[1;33m\u001b[0m\u001b[0m\n\u001b[0m\u001b[0;32m      5\u001b[0m \u001b[1;33m\u001b[0m\u001b[0m\n\u001b[0;32m      6\u001b[0m         \u001b[1;32mif\u001b[0m \u001b[0mvalue\u001b[0m \u001b[1;33m==\u001b[0m \u001b[1;36m100\u001b[0m\u001b[1;33m:\u001b[0m\u001b[1;33m\u001b[0m\u001b[0m\n",
      "\u001b[1;32m<ipython-input-3-c0e7401aefd6>\u001b[0m in \u001b[0;36mvert\u001b[1;34m(var)\u001b[0m\n\u001b[0;32m      2\u001b[0m     \u001b[0mx\u001b[0m\u001b[1;33m,\u001b[0m\u001b[0mvert\u001b[0m \u001b[1;33m=\u001b[0m \u001b[0mvar\u001b[0m\u001b[1;33m\u001b[0m\u001b[0m\n\u001b[0;32m      3\u001b[0m     \u001b[1;32mfor\u001b[0m \u001b[0mi\u001b[0m \u001b[1;32min\u001b[0m \u001b[0mrange\u001b[0m\u001b[1;33m(\u001b[0m\u001b[0mx\u001b[0m\u001b[1;33m,\u001b[0m \u001b[1;36m9\u001b[0m\u001b[1;33m)\u001b[0m\u001b[1;33m:\u001b[0m\u001b[1;33m\u001b[0m\u001b[0m\n\u001b[1;32m----> 4\u001b[1;33m         \u001b[1;32mif\u001b[0m \u001b[0mx\u001b[0m \u001b[1;33m==\u001b[0m \u001b[0mvert\u001b[0m\u001b[1;33m[\u001b[0m\u001b[0mi\u001b[0m\u001b[1;33m]\u001b[0m\u001b[1;33m:\u001b[0m\u001b[1;33m\u001b[0m\u001b[0m\n\u001b[0m\u001b[0;32m      5\u001b[0m             \u001b[1;32mreturn\u001b[0m \u001b[1;36m100\u001b[0m\u001b[1;33m\u001b[0m\u001b[0m\n\u001b[0;32m      6\u001b[0m         \u001b[1;32melse\u001b[0m\u001b[1;33m:\u001b[0m\u001b[1;33m\u001b[0m\u001b[0m\n",
      "\u001b[1;31mTypeError\u001b[0m: 'int' object is not subscriptable"
     ]
    }
   ],
   "source": [
    "start = Original()\n",
    "result = solver(start)\n",
    "result"
   ]
  },
  {
   "cell_type": "code",
   "execution_count": null,
   "metadata": {},
   "outputs": [],
   "source": []
  },
  {
   "cell_type": "code",
   "execution_count": null,
   "metadata": {},
   "outputs": [],
   "source": []
  }
 ],
 "metadata": {
  "kernelspec": {
   "display_name": "Python 3",
   "language": "python",
   "name": "python3"
  },
  "language_info": {
   "codemirror_mode": {
    "name": "ipython",
    "version": 3
   },
   "file_extension": ".py",
   "mimetype": "text/x-python",
   "name": "python",
   "nbconvert_exporter": "python",
   "pygments_lexer": "ipython3",
   "version": "3.7.0"
  }
 },
 "nbformat": 4,
 "nbformat_minor": 2
}
